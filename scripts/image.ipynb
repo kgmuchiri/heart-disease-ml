{
 "cells": [
  {
   "cell_type": "markdown",
   "metadata": {},
   "source": [
    "# Image Folder Split\n"
   ]
  },
  {
   "cell_type": "code",
   "execution_count": null,
   "metadata": {},
   "outputs": [],
   "source": [
    "import splitfolders\n",
    "\n",
    "# Input folder with your ECG images (organized by class)\n",
    "input_folder = \"ECG_images\"  \n",
    "\n",
    "# Output folder where the train and test folders will be created\n",
    "output_folder = \"ECG_images_split\" \n",
    "\n",
    "# Split the data with a 70/30 ratio\n",
    "splitfolders.ratio(input_folder, output=output_folder, seed=50, ratio=(0.7, 0.3)"
   ]
  },
  {
   "cell_type": "code",
   "execution_count": null,
   "metadata": {},
   "outputs": [],
   "source": []
  }
 ],
 "metadata": {
  "kernelspec": {
   "display_name": "base",
   "language": "python",
   "name": "python3"
  },
  "language_info": {
   "name": "python",
   "version": "3.12.4"
  }
 },
 "nbformat": 4,
 "nbformat_minor": 2
}
